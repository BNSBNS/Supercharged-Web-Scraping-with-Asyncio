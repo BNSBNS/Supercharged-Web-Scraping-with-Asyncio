{
 "cells": [
  {
   "cell_type": "code",
   "execution_count": 1,
   "metadata": {},
   "outputs": [],
   "source": [
    "from supercharged.storage import df_from_sql"
   ]
  },
  {
   "cell_type": "code",
   "execution_count": 9,
   "metadata": {},
   "outputs": [],
   "source": [
    "tables = [\n",
    "    'spoonflower_links',\n",
    "    'spoonflower_fabrics'\n",
    "]"
   ]
  },
  {
   "cell_type": "code",
   "execution_count": 19,
   "metadata": {},
   "outputs": [],
   "source": [
    "links_df = df_from_sql(tables[0])\n",
    "products_df = df_from_sql(tables[1])"
   ]
  },
  {
   "cell_type": "code",
   "execution_count": 20,
   "metadata": {},
   "outputs": [
    {
     "data": {
      "text/html": [
       "<div>\n",
       "<style scoped>\n",
       "    .dataframe tbody tr th:only-of-type {\n",
       "        vertical-align: middle;\n",
       "    }\n",
       "\n",
       "    .dataframe tbody tr th {\n",
       "        vertical-align: top;\n",
       "    }\n",
       "\n",
       "    .dataframe thead th {\n",
       "        text-align: right;\n",
       "    }\n",
       "</style>\n",
       "<table border=\"1\" class=\"dataframe\">\n",
       "  <thead>\n",
       "    <tr style=\"text-align: right;\">\n",
       "      <th></th>\n",
       "      <th>id</th>\n",
       "      <th>slug</th>\n",
       "      <th>path</th>\n",
       "      <th>scraped</th>\n",
       "    </tr>\n",
       "  </thead>\n",
       "  <tbody>\n",
       "    <tr>\n",
       "      <th>0</th>\n",
       "      <td>7522587</td>\n",
       "      <td>save-honey-bees-large-new-by-fernlesliestudio</td>\n",
       "      <td>/en/fabric/7522587-save-honey-bees-large-new-b...</td>\n",
       "      <td>0</td>\n",
       "    </tr>\n",
       "    <tr>\n",
       "      <th>1</th>\n",
       "      <td>1306112</td>\n",
       "      <td>opal-by-peacoquettedesigns</td>\n",
       "      <td>/en/fabric/1306112-opal-by-peacoquettedesigns</td>\n",
       "      <td>0</td>\n",
       "    </tr>\n",
       "    <tr>\n",
       "      <th>2</th>\n",
       "      <td>9060289</td>\n",
       "      <td>saints-fleur-de-lis-new-orleans-saints-footbal...</td>\n",
       "      <td>/en/fabric/9060289-saints-fleur-de-lis-new-orl...</td>\n",
       "      <td>0</td>\n",
       "    </tr>\n",
       "    <tr>\n",
       "      <th>3</th>\n",
       "      <td>5773745</td>\n",
       "      <td>rainbow-pride-stripes-by-furbuddy</td>\n",
       "      <td>/en/fabric/5773745-rainbow-pride-stripes-by-fu...</td>\n",
       "      <td>0</td>\n",
       "    </tr>\n",
       "    <tr>\n",
       "      <th>4</th>\n",
       "      <td>7812388</td>\n",
       "      <td>dnd-pattern-by-neonborealis</td>\n",
       "      <td>/en/fabric/7812388-dnd-pattern-by-neonborealis</td>\n",
       "      <td>0</td>\n",
       "    </tr>\n",
       "  </tbody>\n",
       "</table>\n",
       "</div>"
      ],
      "text/plain": [
       "        id                                               slug  \\\n",
       "0  7522587      save-honey-bees-large-new-by-fernlesliestudio   \n",
       "1  1306112                         opal-by-peacoquettedesigns   \n",
       "2  9060289  saints-fleur-de-lis-new-orleans-saints-footbal...   \n",
       "3  5773745                  rainbow-pride-stripes-by-furbuddy   \n",
       "4  7812388                        dnd-pattern-by-neonborealis   \n",
       "\n",
       "                                                path  scraped  \n",
       "0  /en/fabric/7522587-save-honey-bees-large-new-b...        0  \n",
       "1      /en/fabric/1306112-opal-by-peacoquettedesigns        0  \n",
       "2  /en/fabric/9060289-saints-fleur-de-lis-new-orl...        0  \n",
       "3  /en/fabric/5773745-rainbow-pride-stripes-by-fu...        0  \n",
       "4     /en/fabric/7812388-dnd-pattern-by-neonborealis        0  "
      ]
     },
     "execution_count": 20,
     "metadata": {},
     "output_type": "execute_result"
    }
   ],
   "source": [
    "links_df.head()"
   ]
  },
  {
   "cell_type": "code",
   "execution_count": 21,
   "metadata": {},
   "outputs": [
    {
     "data": {
      "text/plain": [
       "(84, 4)"
      ]
     },
     "execution_count": 21,
     "metadata": {},
     "output_type": "execute_result"
    }
   ],
   "source": [
    "links_df.shape"
   ]
  },
  {
   "cell_type": "code",
   "execution_count": 22,
   "metadata": {},
   "outputs": [
    {
     "data": {
      "text/html": [
       "<div>\n",
       "<style scoped>\n",
       "    .dataframe tbody tr th:only-of-type {\n",
       "        vertical-align: middle;\n",
       "    }\n",
       "\n",
       "    .dataframe tbody tr th {\n",
       "        vertical-align: top;\n",
       "    }\n",
       "\n",
       "    .dataframe thead th {\n",
       "        text-align: right;\n",
       "    }\n",
       "</style>\n",
       "<table border=\"1\" class=\"dataframe\">\n",
       "  <thead>\n",
       "    <tr style=\"text-align: right;\">\n",
       "      <th></th>\n",
       "      <th>id</th>\n",
       "      <th>slug</th>\n",
       "      <th>path</th>\n",
       "      <th>title</th>\n",
       "      <th>size</th>\n",
       "      <th>price</th>\n",
       "      <th>priceCurrency</th>\n",
       "      <th>priceValidUntil</th>\n",
       "    </tr>\n",
       "  </thead>\n",
       "  <tbody>\n",
       "    <tr>\n",
       "      <th>0</th>\n",
       "      <td>6444170</td>\n",
       "      <td>catching-fireflies-by-thestorysmith</td>\n",
       "      <td>/en/fabric/6444170-catching-fireflies-by-thest...</td>\n",
       "      <td>Catching Fireflies</td>\n",
       "      <td>Fat Quarter 21\" x 18\"</td>\n",
       "      <td>10.75</td>\n",
       "      <td>USD</td>\n",
       "      <td>2030-01-01</td>\n",
       "    </tr>\n",
       "  </tbody>\n",
       "</table>\n",
       "</div>"
      ],
      "text/plain": [
       "        id                                 slug  \\\n",
       "0  6444170  catching-fireflies-by-thestorysmith   \n",
       "\n",
       "                                                path               title  \\\n",
       "0  /en/fabric/6444170-catching-fireflies-by-thest...  Catching Fireflies   \n",
       "\n",
       "                    size  price priceCurrency priceValidUntil  \n",
       "0  Fat Quarter 21\" x 18\"  10.75           USD      2030-01-01  "
      ]
     },
     "execution_count": 22,
     "metadata": {},
     "output_type": "execute_result"
    }
   ],
   "source": [
    "products_df.head()"
   ]
  },
  {
   "cell_type": "code",
   "execution_count": 18,
   "metadata": {},
   "outputs": [
    {
     "name": "stdout",
     "output_type": "stream",
     "text": [
      "Starting ChromeDriver 84.0.4147.30 (48b3e868b4cc0aa7e8149519690b6f6949e110a8-refs/branch-heads/4147@{#310}) on port 55627\n",
      "Only local connections are allowed.\n",
      "Please see https://chromedriver.chromium.org/security-considerations for suggestions on keeping ChromeDriver safe.\n",
      "Starting ChromeDriver 84.0.4147.30 (48b3e868b4cc0aa7e8149519690b6f6949e110a8-refs/branch-heads/4147@{#310}) on port 55628\n",
      "Only local connections are allowed.\n",
      "Please see https://chromedriver.chromium.org/security-considerations for suggestions on keeping ChromeDriver safe.\n",
      "ChromeDriver was started successfully.\n",
      "ChromeDriver was started successfully.\n",
      "0 took 13.172217845916748 seconds\n",
      "1 took 13.690112113952637 seconds\n",
      "[{'links': [{'id': '6327300', 'slug': 'call-mountains-evergreen-med-by-nouveau_bohemian', 'path': '/en/fabric/6327300-call-mountains-evergreen-med-by-nouveau_bohemian', 'scraped': 0}, {'id': '5880084', 'slug': 'mod-triangles-gold-indigo-by-crystal_walen', 'path': '/en/fabric/5880084-mod-triangles-gold-indigo-by-crystal_walen', 'scraped': 0}, {'id': '7790777', 'slug': 'turtles-aqua-blue-by-gingerlique', 'path': '/en/fabric/7790777-turtles-aqua-blue-by-gingerlique', 'scraped': 0}, {'id': '1112778', 'slug': 'rosie-riveter-by-spacefem', 'path': '/en/fabric/1112778-rosie-riveter-by-spacefem', 'scraped': 0}, {'id': '7661255', 'slug': 'just-jellies-jellyfish-by-katerhees', 'path': '/en/fabric/7661255-just-jellies-jellyfish-by-katerhees', 'scraped': 0}, {'id': '6782514', 'slug': 'eame-s-wildflower-meadow-by-hipkiddesigns', 'path': '/en/fabric/6782514-eame-s-wildflower-meadow-by-hipkiddesigns', 'scraped': 0}, {'id': '2632362', 'slug': 'colorful-happy-smiley-face-squares-large-print-by-inspirationz', 'path': '/en/fabric/2632362-colorful-happy-smiley-face-squares-large-print-by-inspirationz', 'scraped': 0}, {'id': '1096407', 'slug': 'skull-wall-by-ben_goetting', 'path': '/en/fabric/1096407-skull-wall-by-ben_goetting', 'scraped': 0}, {'id': '6812243', 'slug': 'cute-kawaii-sushi-small-size-by-penguinhouse', 'path': '/en/fabric/6812243-cute-kawaii-sushi-small-size-by-penguinhouse', 'scraped': 0}, {'id': '6852245', 'slug': 'cute-nurse-love-black-no-gradient-by-jannasalak', 'path': '/en/fabric/6852245-cute-nurse-love-black-no-gradient-by-jannasalak', 'scraped': 0}, {'id': '9240316', 'slug': 'irish-navy-green-shamrock-fabric-by-charlottewinter', 'path': '/en/fabric/9240316-irish-navy-green-shamrock-fabric-by-charlottewinter', 'scraped': 0}, {'id': '5839396', 'slug': 'spectacular-cats-by-cynthia_arre', 'path': '/en/fabric/5839396-spectacular-cats-by-cynthia_arre', 'scraped': 0}, {'id': '6263258', 'slug': 'navy-blue-watercolor-herringbone-by-laurapol', 'path': '/en/fabric/6263258-navy-blue-watercolor-herringbone-by-laurapol', 'scraped': 0}, {'id': '7698482', 'slug': 'scrubs-dr-stetho-scope-by-adrianne_vanalstine', 'path': '/en/fabric/7698482-scrubs-dr-stetho-scope-by-adrianne_vanalstine', 'scraped': 0}, {'id': '6444170', 'slug': 'catching-fireflies-by-thestorysmith', 'path': '/en/fabric/6444170-catching-fireflies-by-thestorysmith', 'scraped': 0}, {'id': '4830872', 'slug': 'cherry-blossom-watercolor-cherry-blossom-floral-by-magentarosedesigns', 'path': '/en/fabric/4830872-cherry-blossom-watercolor-cherry-blossom-floral-by-magentarosedesigns', 'scraped': 0}, {'id': '6864327', 'slug': 'love-lips-red-by-hipkiddesigns', 'path': '/en/fabric/6864327-love-lips-red-by-hipkiddesigns', 'scraped': 0}, {'id': '8644410', 'slug': 'pastel-rainbow-unicorn-by-koko_bun', 'path': '/en/fabric/8644410-pastel-rainbow-unicorn-by-koko_bun', 'scraped': 0}, {'id': '2623675', 'slug': 'black-white-music-notes-by-inspirationz', 'path': '/en/fabric/2623675-black-white-music-notes-by-inspirationz', 'scraped': 0}, {'id': '4534585', 'slug': 'super-words-dark-by-robyriker', 'path': '/en/fabric/4534585-super-words-dark-by-robyriker', 'scraped': 0}, {'id': '4270747', 'slug': 'happy-hair-stylist-friends-blue-by-clayvision_-_ahappybluetree', 'path': '/en/fabric/4270747-happy-hair-stylist-friends-blue-by-clayvision_-_ahappybluetree', 'scraped': 0}, {'id': '7812388', 'slug': 'dnd-pattern-by-neonborealis', 'path': '/en/fabric/7812388-dnd-pattern-by-neonborealis', 'scraped': 0}, {'id': '4995362', 'slug': 'heart-health-awareness-black-by-ohdarkthirty', 'path': '/en/fabric/4995362-heart-health-awareness-black-by-ohdarkthirty', 'scraped': 0}, {'id': '7679631', 'slug': 'scattered-earth-tones-watercolor-rainbows-by-anniemontgomerydesign', 'path': '/en/fabric/7679631-scattered-earth-tones-watercolor-rainbows-by-anniemontgomerydesign', 'scraped': 0}, {'id': '7662668', 'slug': 'mermaid-music-by-ceciliamok', 'path': '/en/fabric/7662668-mermaid-music-by-ceciliamok', 'scraped': 0}, {'id': '5700186', 'slug': 'puzzle-hearts-by-designedbygeeks', 'path': '/en/fabric/5700186-puzzle-hearts-by-designedbygeeks', 'scraped': 0}, {'id': '4893900', 'slug': 'half-scale-m81-woodland-camo-by-ricraynor', 'path': '/en/fabric/4893900-half-scale-m81-woodland-camo-by-ricraynor', 'scraped': 0}, {'id': '5247883', 'slug': 'hexo-blue-med-by-nouveau_bohemian', 'path': '/en/fabric/5247883-hexo-blue-med-by-nouveau_bohemian', 'scraped': 0}, {'id': '5513692', 'slug': 'salon-barber-hairdresser-pattern-by-cloudycapevintage', 'path': '/en/fabric/5513692-salon-barber-hairdresser-pattern-by-cloudycapevintage', 'scraped': 0}, {'id': '5588706', 'slug': 'black-lives-matter-small-scale-by-ashleysummersdesign', 'path': '/en/fabric/5588706-black-lives-matter-small-scale-by-ashleysummersdesign', 'scraped': 0}, {'id': '3840217', 'slug': 'nurse-theme-by-hot4tees_bg-yahoo_com', 'path': '/en/fabric/3840217-nurse-theme-by-hot4tees_bg-yahoo_com', 'scraped': 0}, {'id': '5034356', 'slug': '80s-hair-dryers-by-cjldesigns', 'path': '/en/fabric/5034356-80s-hair-dryers-by-cjldesigns', 'scraped': 0}, {'id': '8619105', 'slug': 'flight-feathers-painted-by-xoxotique', 'path': '/en/fabric/8619105-flight-feathers-painted-by-xoxotique', 'scraped': 0}, {'id': '6590171', 'slug': 'mermaid-scales-by-elladorine', 'path': '/en/fabric/6590171-mermaid-scales-by-elladorine', 'scraped': 0}, {'id': '4352750', 'slug': 'loteria-by-jellymania', 'path': '/en/fabric/4352750-loteria-by-jellymania', 'scraped': 0}, {'id': '5312944', 'slug': 'thank-being-friend-small-by-elladorine', 'path': '/en/fabric/5312944-thank-being-friend-small-by-elladorine', 'scraped': 0}, {'id': '7137898', 'slug': 'sierra-floral-by-crystal_walen', 'path': '/en/fabric/7137898-sierra-floral-by-crystal_walen', 'scraped': 0}, {'id': '5544045', 'slug': 'napoleonic-bees-faux-gilt-on-blackest-black-by-peacoquettedesigns', 'path': '/en/fabric/5544045-napoleonic-bees-faux-gilt-on-blackest-black-by-peacoquettedesigns', 'scraped': 0}, {'id': '6178734', 'slug': 'fable-floral-blush-med-by-nouveau_bohemian', 'path': '/en/fabric/6178734-fable-floral-blush-med-by-nouveau_bohemian', 'scraped': 0}, {'id': '8039248', 'slug': 'forest-animal-hot-air-balloon-night-adventure-by-at_the_cottage', 'path': '/en/fabric/8039248-forest-animal-hot-air-balloon-night-adventure-by-at_the_cottage', 'scraped': 0}, {'id': '8056679', 'slug': 'ruth-bader-ginsgurg-rbg-bust-black-by-katerhees', 'path': '/en/fabric/8056679-ruth-bader-ginsgurg-rbg-bust-black-by-katerhees', 'scraped': 0}, {'id': '1577333', 'slug': 'marine-marpat-digital-woodland-camo-by-ricraynor', 'path': '/en/fabric/1577333-marine-marpat-digital-woodland-camo-by-ricraynor', 'scraped': 0}, {'id': '5469666', 'slug': 'galaxy-far-far-away-gray-by-studiofibonacci', 'path': '/en/fabric/5469666-galaxy-far-far-away-gray-by-studiofibonacci', 'scraped': 0}, {'id': '5773745', 'slug': 'rainbow-pride-stripes-by-furbuddy', 'path': '/en/fabric/5773745-rainbow-pride-stripes-by-furbuddy', 'scraped': 0}, {'id': '2623792', 'slug': 'purple-space-stars-small-print-by-inspirationz', 'path': '/en/fabric/2623792-purple-space-stars-small-print-by-inspirationz', 'scraped': 0}, {'id': '509390', 'slug': 'spoonflower-color-map-by-spoonflower_help', 'path': '/en/fabric/509390-spoonflower-color-map-by-spoonflower_help', 'scraped': 0}, {'id': '3817098', 'slug': 'math-count-on-by-sammyk', 'path': '/en/fabric/3817098-math-count-on-by-sammyk', 'scraped': 0}, {'id': '7587085', 'slug': 'heres-heart-navy-white-gold2-sketch-1-by-doodleandcharm_', 'path': '/en/fabric/7587085-heres-heart-navy-white-gold2-sketch-1-by-doodleandcharm_', 'scraped': 0}, {'id': '7580754', 'slug': 'ibd-gracie-grace-golden-jumbo-by-indybloomdesign', 'path': '/en/fabric/7580754-ibd-gracie-grace-golden-jumbo-by-indybloomdesign', 'scraped': 0}, {'id': '6650975', 'slug': 'love-nurse-charcoal-gray-by-phyllisdobbs', 'path': '/en/fabric/6650975-love-nurse-charcoal-gray-by-phyllisdobbs', 'scraped': 0}, {'id': '7685381', 'slug': 'dragon-fire-by-adenaj', 'path': '/en/fabric/7685381-dragon-fire-by-adenaj', 'scraped': 0}, {'id': '7944022', 'slug': 'golden-girls-illustration-peach-by-yesterdaycollection', 'path': '/en/fabric/7944022-golden-girls-illustration-peach-by-yesterdaycollection', 'scraped': 0}, {'id': '7522587', 'slug': 'save-honey-bees-large-new-by-fernlesliestudio', 'path': '/en/fabric/7522587-save-honey-bees-large-new-by-fernlesliestudio', 'scraped': 0}, {'id': '6079351', 'slug': 'josie-meadow-floral-by-sweeterthanhoney', 'path': '/en/fabric/6079351-josie-meadow-floral-by-sweeterthanhoney', 'scraped': 0}, {'id': '5514018', 'slug': 'hair-cutting-shears-by-cloudycapevintage', 'path': '/en/fabric/5514018-hair-cutting-shears-by-cloudycapevintage', 'scraped': 0}, {'id': '5532389', 'slug': 'blue-white-camouflage-pattern-by-artpics', 'path': '/en/fabric/5532389-blue-white-camouflage-pattern-by-artpics', 'scraped': 0}, {'id': '4995555', 'slug': 'heart-health-awareness-light-gray-large-by-ohdarkthirty', 'path': '/en/fabric/4995555-heart-health-awareness-light-gray-large-by-ohdarkthirty', 'scraped': 0}, {'id': '5048115', 'slug': 'mexican-blanket-by-anchored_by_love', 'path': '/en/fabric/5048115-mexican-blanket-by-anchored_by_love', 'scraped': 0}, {'id': '7984669', 'slug': '8-love-care-medical-white-by-rebelmod', 'path': '/en/fabric/7984669-8-love-care-medical-white-by-rebelmod', 'scraped': 0}, {'id': '1306112', 'slug': 'opal-by-peacoquettedesigns', 'path': '/en/fabric/1306112-opal-by-peacoquettedesigns', 'scraped': 0}, {'id': '8692520', 'slug': 'bees-lemons-large-blue-original-colors-by-fernlesliestudio', 'path': '/en/fabric/8692520-bees-lemons-large-blue-original-colors-by-fernlesliestudio', 'scraped': 0}, {'id': '8197261', 'slug': 'night-sky-stars-midnight-blue-by-at_the_cottage', 'path': '/en/fabric/8197261-night-sky-stars-midnight-blue-by-at_the_cottage', 'scraped': 0}, {'id': '9119650', 'slug': 'horror-friends-by-mariospeedwagon', 'path': '/en/fabric/9119650-horror-friends-by-mariospeedwagon', 'scraped': 0}, {'id': '7984649', 'slug': '8-love-care-medical-black-by-rebelmod', 'path': '/en/fabric/7984649-8-love-care-medical-black-by-rebelmod', 'scraped': 0}, {'id': '2920223', 'slug': 'm81-woodland-camo-by-ricraynor', 'path': '/en/fabric/2920223-m81-woodland-camo-by-ricraynor', 'scraped': 0}, {'id': '7137786', 'slug': 'genevieve-floral-by-crystal_walen', 'path': '/en/fabric/7137786-genevieve-floral-by-crystal_walen', 'scraped': 0}, {'id': '6715163', 'slug': '8-wild-heart-florals-white-by-shopcabin', 'path': '/en/fabric/6715163-8-wild-heart-florals-white-by-shopcabin', 'scraped': 0}, {'id': '6650888', 'slug': 'love-nurse-whimsy-blue-by-phyllisdobbs', 'path': '/en/fabric/6650888-love-nurse-whimsy-blue-by-phyllisdobbs', 'scraped': 0}, {'id': '7368347', 'slug': 'dear-clementine-oranges-teal-by-crystal_walen', 'path': '/en/fabric/7368347-dear-clementine-oranges-teal-by-crystal_walen', 'scraped': 0}, {'id': '2330040', 'slug': 'maryland-flags-by-elramsay', 'path': '/en/fabric/2330040-maryland-flags-by-elramsay', 'scraped': 0}, {'id': '5964319', 'slug': 'hearts-on-grey-linen-valentines-day-by-littlearrowdesign', 'path': '/en/fabric/5964319-hearts-on-grey-linen-valentines-day-by-littlearrowdesign', 'scraped': 0}, {'id': '8618597', 'slug': 'rainbow-watercolor-pawprints-by-dragonstarart', 'path': '/en/fabric/8618597-rainbow-watercolor-pawprints-by-dragonstarart', 'scraped': 0}, {'id': '4888888', 'slug': 'flowers-skulls-by-elladorine', 'path': '/en/fabric/4888888-flowers-skulls-by-elladorine', 'scraped': 0}, {'id': '991112', 'slug': 'nursing-coordinates-by-bluevelvet', 'path': '/en/fabric/991112-nursing-coordinates-by-bluevelvet', 'scraped': 0}, {'id': '5939834', 'slug': 'classic-leopard-by-cinneworthington', 'path': '/en/fabric/5939834-classic-leopard-by-cinneworthington', 'scraped': 0}, {'id': '8286001', 'slug': 'hanging-out-by-sarah_knight', 'path': '/en/fabric/8286001-hanging-out-by-sarah_knight', 'scraped': 0}, {'id': '4981816', 'slug': 'black-white-dogs-by-littleislandcompany', 'path': '/en/fabric/4981816-black-white-dogs-by-littleislandcompany', 'scraped': 0}, {'id': '9453318', 'slug': 'african-american-girls-retro-pop-art-by-whimsical_brush', 'path': '/en/fabric/9453318-african-american-girls-retro-pop-art-by-whimsical_brush', 'scraped': 0}, {'id': '5131007', 'slug': 'scandinavian-sweet-hedgehog-illustration-kids-gender-neutral-black-white-by-littlesmilemakers', 'path': '/en/fabric/5131007-scandinavian-sweet-hedgehog-illustration-kids-gender-neutral-black-white-by-littlesmilemakers', 'scraped': 0}, {'id': '9060289', 'slug': 'saints-fleur-de-lis-new-orleans-saints-football-football-fabric-fleur-de-lis-fabric-black-gold-gold-f-by-charlottewinter', 'path': '/en/fabric/9060289-saints-fleur-de-lis-new-orleans-saints-football-football-fabric-fleur-de-lis-fabric-black-gold-gold-f-by-charlottewinter', 'scraped': 0}, {'id': '7236018', 'slug': 'australian-native-eucalyptus-leaves-edition-1-australiana-fabric-wallpaper-by-erin__kendal', 'path': '/en/fabric/7236018-australian-native-eucalyptus-leaves-edition-1-australiana-fabric-wallpaper-by-erin__kendal', 'scraped': 0}, {'id': '3584004', 'slug': 'mexican-sugar-skulls-small-by-lusykoror', 'path': '/en/fabric/3584004-mexican-sugar-skulls-small-by-lusykoror', 'scraped': 0}, {'id': '7463028', 'slug': 'seamless-watercolor-larger-leaves-pattern-1-by-daily_miracles', 'path': '/en/fabric/7463028-seamless-watercolor-larger-leaves-pattern-1-by-daily_miracles', 'scraped': 0}, {'id': '5033660', 'slug': '80s-accessories-by-diannemehta', 'path': '/en/fabric/5033660-80s-accessories-by-diannemehta', 'scraped': 0}], 'product_data': {'id': None, 'slug': None, 'path': '/en/shop'}}, {'links': [], 'product_data': {'id': '6444170', 'slug': 'catching-fireflies-by-thestorysmith', 'path': '/en/fabric/6444170-catching-fireflies-by-thestorysmith', 'title': 'Catching Fireflies', 'size': 'Fat Quarter 21\" x 18\"', 'price': '10.75', 'priceCurrency': 'USD', 'priceValidUntil': '2030-01-01'}}]\n",
      "total time is 13.694295167922974\n"
     ]
    },
    {
     "name": "stdout",
     "output_type": "stream",
     "text": [
      "{\"links\": [{\"id\": \"6327300\", \"slug\": \"call-mountains-evergreen-med-by-nouveau_bohemian\", \"path\": \"/en/fabric/6327300-call-mountains-evergreen-med-by-nouveau_bohemian\", \"scraped\": 0}, {\"id\": \"5880084\", \"slug\": \"mod-triangles-gold-indigo-by-crystal_walen\", \"path\": \"/en/fabric/5880084-mod-triangles-gold-indigo-by-crystal_walen\", \"scraped\": 0}, {\"id\": \"7790777\", \"slug\": \"turtles-aqua-blue-by-gingerlique\", \"path\": \"/en/fabric/7790777-turtles-aqua-blue-by-gingerlique\", \"scraped\": 0}, {\"id\": \"1112778\", \"slug\": \"rosie-riveter-by-spacefem\", \"path\": \"/en/fabric/1112778-rosie-riveter-by-spacefem\", \"scraped\": 0}, {\"id\": \"7661255\", \"slug\": \"just-jellies-jellyfish-by-katerhees\", \"path\": \"/en/fabric/7661255-just-jellies-jellyfish-by-katerhees\", \"scraped\": 0}, {\"id\": \"6782514\", \"slug\": \"eame-s-wildflower-meadow-by-hipkiddesigns\", \"path\": \"/en/fabric/6782514-eame-s-wildflower-meadow-by-hipkiddesigns\", \"scraped\": 0}, {\"id\": \"2632362\", \"slug\": \"colorful-happy-smiley-face-squares-large-print-by-inspirationz\", \"path\": \"/en/fabric/2632362-colorful-happy-smiley-face-squares-large-print-by-inspirationz\", \"scraped\": 0}, {\"id\": \"1096407\", \"slug\": \"skull-wall-by-ben_goetting\", \"path\": \"/en/fabric/1096407-skull-wall-by-ben_goetting\", \"scraped\": 0}, {\"id\": \"6812243\", \"slug\": \"cute-kawaii-sushi-small-size-by-penguinhouse\", \"path\": \"/en/fabric/6812243-cute-kawaii-sushi-small-size-by-penguinhouse\", \"scraped\": 0}, {\"id\": \"6852245\", \"slug\": \"cute-nurse-love-black-no-gradient-by-jannasalak\", \"path\": \"/en/fabric/6852245-cute-nurse-love-black-no-gradient-by-jannasalak\", \"scraped\": 0}, {\"id\": \"9240316\", \"slug\": \"irish-navy-green-shamrock-fabric-by-charlottewinter\", \"path\": \"/en/fabric/9240316-irish-navy-green-shamrock-fabric-by-charlottewinter\", \"scraped\": 0}, {\"id\": \"5839396\", \"slug\": \"spectacular-cats-by-cynthia_arre\", \"path\": \"/en/fabric/5839396-spectacular-cats-by-cynthia_arre\", \"scraped\": 0}, {\"id\": \"6263258\", \"slug\": \"navy-blue-watercolor-herringbone-by-laurapol\", \"path\": \"/en/fabric/6263258-navy-blue-watercolor-herringbone-by-laurapol\", \"scraped\": 0}, {\"id\": \"7698482\", \"slug\": \"scrubs-dr-stetho-scope-by-adrianne_vanalstine\", \"path\": \"/en/fabric/7698482-scrubs-dr-stetho-scope-by-adrianne_vanalstine\", \"scraped\": 0}, {\"id\": \"6444170\", \"slug\": \"catching-fireflies-by-thestorysmith\", \"path\": \"/en/fabric/6444170-catching-fireflies-by-thestorysmith\", \"scraped\": 0}, {\"id\": \"4830872\", \"slug\": \"cherry-blossom-watercolor-cherry-blossom-floral-by-magentarosedesigns\", \"path\": \"/en/fabric/4830872-cherry-blossom-watercolor-cherry-blossom-floral-by-magentarosedesigns\", \"scraped\": 0}, {\"id\": \"6864327\", \"slug\": \"love-lips-red-by-hipkiddesigns\", \"path\": \"/en/fabric/6864327-love-lips-red-by-hipkiddesigns\", \"scraped\": 0}, {\"id\": \"8644410\", \"slug\": \"pastel-rainbow-unicorn-by-koko_bun\", \"path\": \"/en/fabric/8644410-pastel-rainbow-unicorn-by-koko_bun\", \"scraped\": 0}, {\"id\": \"2623675\", \"slug\": \"black-white-music-notes-by-inspirationz\", \"path\": \"/en/fabric/2623675-black-white-music-notes-by-inspirationz\", \"scraped\": 0}, {\"id\": \"4534585\", \"slug\": \"super-words-dark-by-robyriker\", \"path\": \"/en/fabric/4534585-super-words-dark-by-robyriker\", \"scraped\": 0}, {\"id\": \"4270747\", \"slug\": \"happy-hair-stylist-friends-blue-by-clayvision_-_ahappybluetree\", \"path\": \"/en/fabric/4270747-happy-hair-stylist-friends-blue-by-clayvision_-_ahappybluetree\", \"scraped\": 0}, {\"id\": \"7812388\", \"slug\": \"dnd-pattern-by-neonborealis\", \"path\": \"/en/fabric/7812388-dnd-pattern-by-neonborealis\", \"scraped\": 0}, {\"id\": \"4995362\", \"slug\": \"heart-health-awareness-black-by-ohdarkthirty\", \"path\": \"/en/fabric/4995362-heart-health-awareness-black-by-ohdarkthirty\", \"scraped\": 0}, {\"id\": \"7679631\", \"slug\": \"scattered-earth-tones-watercolor-rainbows-by-anniemontgomerydesign\", \"path\": \"/en/fabric/7679631-scattered-earth-tones-watercolor-rainbows-by-anniemontgomerydesign\", \"scraped\": 0}, {\"id\": \"7662668\", \"slug\": \"mermaid-music-by-ceciliamok\", \"path\": \"/en/fabric/7662668-mermaid-music-by-ceciliamok\", \"scraped\": 0}, {\"id\": \"5700186\", \"slug\": \"puzzle-hearts-by-designedbygeeks\", \"path\": \"/en/fabric/5700186-puzzle-hearts-by-designedbygeeks\", \"scraped\": 0}, {\"id\": \"4893900\", \"slug\": \"half-scale-m81-woodland-camo-by-ricraynor\", \"path\": \"/en/fabric/4893900-half-scale-m81-woodland-camo-by-ricraynor\", \"scraped\": 0}, {\"id\": \"5247883\", \"slug\": \"hexo-blue-med-by-nouveau_bohemian\", \"path\": \"/en/fabric/5247883-hexo-blue-med-by-nouveau_bohemian\", \"scraped\": 0}, {\"id\": \"5513692\", \"slug\": \"salon-barber-hairdresser-pattern-by-cloudycapevintage\", \"path\": \"/en/fabric/5513692-salon-barber-hairdresser-pattern-by-cloudycapevintage\", \"scraped\": 0}, {\"id\": \"5588706\", \"slug\": \"black-lives-matter-small-scale-by-ashleysummersdesign\", \"path\": \"/en/fabric/5588706-black-lives-matter-small-scale-by-ashleysummersdesign\", \"scraped\": 0}, {\"id\": \"3840217\", \"slug\": \"nurse-theme-by-hot4tees_bg-yahoo_com\", \"path\": \"/en/fabric/3840217-nurse-theme-by-hot4tees_bg-yahoo_com\", \"scraped\": 0}, {\"id\": \"5034356\", \"slug\": \"80s-hair-dryers-by-cjldesigns\", \"path\": \"/en/fabric/5034356-80s-hair-dryers-by-cjldesigns\", \"scraped\": 0}, {\"id\": \"8619105\", \"slug\": \"flight-feathers-painted-by-xoxotique\", \"path\": \"/en/fabric/8619105-flight-feathers-painted-by-xoxotique\", \"scraped\": 0}, {\"id\": \"6590171\", \"slug\": \"mermaid-scales-by-elladorine\", \"path\": \"/en/fabric/6590171-mermaid-scales-by-elladorine\", \"scraped\": 0}, {\"id\": \"4352750\", \"slug\": \"loteria-by-jellymania\", \"path\": \"/en/fabric/4352750-loteria-by-jellymania\", \"scraped\": 0}, {\"id\": \"5312944\", \"slug\": \"thank-being-friend-small-by-elladorine\", \"path\": \"/en/fabric/5312944-thank-being-friend-small-by-elladorine\", \"scraped\": 0}, {\"id\": \"7137898\", \"slug\": \"sierra-floral-by-crystal_walen\", \"path\": \"/en/fabric/7137898-sierra-floral-by-crystal_walen\", \"scraped\": 0}, {\"id\": \"5544045\", \"slug\": \"napoleonic-bees-faux-gilt-on-blackest-black-by-peacoquettedesigns\", \"path\": \"/en/fabric/5544045-napoleonic-bees-faux-gilt-on-blackest-black-by-peacoquettedesigns\", \"scraped\": 0}, {\"id\": \"6178734\", \"slug\": \"fable-floral-blush-med-by-nouveau_bohemian\", \"path\": \"/en/fabric/6178734-fable-floral-blush-med-by-nouveau_bohemian\", \"scraped\": 0}, {\"id\": \"8039248\", \"slug\": \"forest-animal-hot-air-balloon-night-adventure-by-at_the_cottage\", \"path\": \"/en/fabric/8039248-forest-animal-hot-air-balloon-night-adventure-by-at_the_cottage\", \"scraped\": 0}, {\"id\": \"8056679\", \"slug\": \"ruth-bader-ginsgurg-rbg-bust-black-by-katerhees\", \"path\": \"/en/fabric/8056679-ruth-bader-ginsgurg-rbg-bust-black-by-katerhees\", \"scraped\": 0}, {\"id\": \"1577333\", \"slug\": \"marine-marpat-digital-woodland-camo-by-ricraynor\", \"path\": \"/en/fabric/1577333-marine-marpat-digital-woodland-camo-by-ricraynor\", \"scraped\": 0}, {\"id\": \"5469666\", \"slug\": \"galaxy-far-far-away-gray-by-studiofibonacci\", \"path\": \"/en/fabric/5469666-galaxy-far-far-away-gray-by-studiofibonacci\", \"scraped\": 0}, {\"id\": \"5773745\", \"slug\": \"rainbow-pride-stripes-by-furbuddy\", \"path\": \"/en/fabric/5773745-rainbow-pride-stripes-by-furbuddy\", \"scraped\": 0}, {\"id\": \"2623792\", \"slug\": \"purple-space-stars-small-print-by-inspirationz\", \"path\": \"/en/fabric/2623792-purple-space-stars-small-print-by-inspirationz\", \"scraped\": 0}, {\"id\": \"509390\", \"slug\": \"spoonflower-color-map-by-spoonflower_help\", \"path\": \"/en/fabric/509390-spoonflower-color-map-by-spoonflower_help\", \"scraped\": 0}, {\"id\": \"3817098\", \"slug\": \"math-count-on-by-sammyk\", \"path\": \"/en/fabric/3817098-math-count-on-by-sammyk\", \"scraped\": 0}, {\"id\": \"7587085\", \"slug\": \"heres-heart-navy-white-gold2-sketch-1-by-doodleandcharm_\", \"path\": \"/en/fabric/7587085-heres-heart-navy-white-gold2-sketch-1-by-doodleandcharm_\", \"scraped\": 0}, {\"id\": \"7580754\", \"slug\": \"ibd-gracie-grace-golden-jumbo-by-indybloomdesign\", \"path\": \"/en/fabric/7580754-ibd-gracie-grace-golden-jumbo-by-indybloomdesign\", \"scraped\": 0}, {\"id\": \"6650975\", \"slug\": \"love-nurse-charcoal-gray-by-phyllisdobbs\", \"path\": \"/en/fabric/6650975-love-nurse-charcoal-gray-by-phyllisdobbs\", \"scraped\": 0}, {\"id\": \"7685381\", \"slug\": \"dragon-fire-by-adenaj\", \"path\": \"/en/fabric/7685381-dragon-fire-by-adenaj\", \"scraped\": 0}, {\"id\": \"7944022\", \"slug\": \"golden-girls-illustration-peach-by-yesterdaycollection\", \"path\": \"/en/fabric/7944022-golden-girls-illustration-peach-by-yesterdaycollection\", \"scraped\": 0}, {\"id\": \"7522587\", \"slug\": \"save-honey-bees-large-new-by-fernlesliestudio\", \"path\": \"/en/fabric/7522587-save-honey-bees-large-new-by-fernlesliestudio\", \"scraped\": 0}, {\"id\": \"6079351\", \"slug\": \"josie-meadow-floral-by-sweeterthanhoney\", \"path\": \"/en/fabric/6079351-josie-meadow-floral-by-sweeterthanhoney\", \"scraped\": 0}, {\"id\": \"5514018\", \"slug\": \"hair-cutting-shears-by-cloudycapevintage\", \"path\": \"/en/fabric/5514018-hair-cutting-shears-by-cloudycapevintage\", \"scraped\": 0}, {\"id\": \"5532389\", \"slug\": \"blue-white-camouflage-pattern-by-artpics\", \"path\": \"/en/fabric/5532389-blue-white-camouflage-pattern-by-artpics\", \"scraped\": 0}, {\"id\": \"4995555\", \"slug\": \"heart-health-awareness-light-gray-large-by-ohdarkthirty\", \"path\": \"/en/fabric/4995555-heart-health-awareness-light-gray-large-by-ohdarkthirty\", \"scraped\": 0}, {\"id\": \"5048115\", \"slug\": \"mexican-blanket-by-anchored_by_love\", \"path\": \"/en/fabric/5048115-mexican-blanket-by-anchored_by_love\", \"scraped\": 0}, {\"id\": \"7984669\", \"slug\": \"8-love-care-medical-white-by-rebelmod\", \"path\": \"/en/fabric/7984669-8-love-care-medical-white-by-rebelmod\", \"scraped\": 0}, {\"id\": \"1306112\", \"slug\": \"opal-by-peacoquettedesigns\", \"path\": \"/en/fabric/1306112-opal-by-peacoquettedesigns\", \"scraped\": 0}, {\"id\": \"8692520\", \"slug\": \"bees-lemons-large-blue-original-colors-by-fernlesliestudio\", \"path\": \"/en/fabric/8692520-bees-lemons-large-blue-original-colors-by-fernlesliestudio\", \"scraped\": 0}, {\"id\": \"8197261\", \"slug\": \"night-sky-stars-midnight-blue-by-at_the_cottage\", \"path\": \"/en/fabric/8197261-night-sky-stars-midnight-blue-by-at_the_cottage\", \"scraped\": 0}, {\"id\": \"9119650\", \"slug\": \"horror-friends-by-mariospeedwagon\", \"path\": \"/en/fabric/9119650-horror-friends-by-mariospeedwagon\", \"scraped\": 0}, {\"id\": \"7984649\", \"slug\": \"8-love-care-medical-black-by-rebelmod\", \"path\": \"/en/fabric/7984649-8-love-care-medical-black-by-rebelmod\", \"scraped\": 0}, {\"id\": \"2920223\", \"slug\": \"m81-woodland-camo-by-ricraynor\", \"path\": \"/en/fabric/2920223-m81-woodland-camo-by-ricraynor\", \"scraped\": 0}, {\"id\": \"7137786\", \"slug\": \"genevieve-floral-by-crystal_walen\", \"path\": \"/en/fabric/7137786-genevieve-floral-by-crystal_walen\", \"scraped\": 0}, {\"id\": \"6715163\", \"slug\": \"8-wild-heart-florals-white-by-shopcabin\", \"path\": \"/en/fabric/6715163-8-wild-heart-florals-white-by-shopcabin\", \"scraped\": 0}, {\"id\": \"6650888\", \"slug\": \"love-nurse-whimsy-blue-by-phyllisdobbs\", \"path\": \"/en/fabric/6650888-love-nurse-whimsy-blue-by-phyllisdobbs\", \"scraped\": 0}, {\"id\": \"7368347\", \"slug\": \"dear-clementine-oranges-teal-by-crystal_walen\", \"path\": \"/en/fabric/7368347-dear-clementine-oranges-teal-by-crystal_walen\", \"scraped\": 0}, {\"id\": \"2330040\", \"slug\": \"maryland-flags-by-elramsay\", \"path\": \"/en/fabric/2330040-maryland-flags-by-elramsay\", \"scraped\": 0}, {\"id\": \"5964319\", \"slug\": \"hearts-on-grey-linen-valentines-day-by-littlearrowdesign\", \"path\": \"/en/fabric/5964319-hearts-on-grey-linen-valentines-day-by-littlearrowdesign\", \"scraped\": 0}, {\"id\": \"8618597\", \"slug\": \"rainbow-watercolor-pawprints-by-dragonstarart\", \"path\": \"/en/fabric/8618597-rainbow-watercolor-pawprints-by-dragonstarart\", \"scraped\": 0}, {\"id\": \"4888888\", \"slug\": \"flowers-skulls-by-elladorine\", \"path\": \"/en/fabric/4888888-flowers-skulls-by-elladorine\", \"scraped\": 0}, {\"id\": \"991112\", \"slug\": \"nursing-coordinates-by-bluevelvet\", \"path\": \"/en/fabric/991112-nursing-coordinates-by-bluevelvet\", \"scraped\": 0}, {\"id\": \"5939834\", \"slug\": \"classic-leopard-by-cinneworthington\", \"path\": \"/en/fabric/5939834-classic-leopard-by-cinneworthington\", \"scraped\": 0}, {\"id\": \"8286001\", \"slug\": \"hanging-out-by-sarah_knight\", \"path\": \"/en/fabric/8286001-hanging-out-by-sarah_knight\", \"scraped\": 0}, {\"id\": \"4981816\", \"slug\": \"black-white-dogs-by-littleislandcompany\", \"path\": \"/en/fabric/4981816-black-white-dogs-by-littleislandcompany\", \"scraped\": 0}, {\"id\": \"9453318\", \"slug\": \"african-american-girls-retro-pop-art-by-whimsical_brush\", \"path\": \"/en/fabric/9453318-african-american-girls-retro-pop-art-by-whimsical_brush\", \"scraped\": 0}, {\"id\": \"5131007\", \"slug\": \"scandinavian-sweet-hedgehog-illustration-kids-gender-neutral-black-white-by-littlesmilemakers\", \"path\": \"/en/fabric/5131007-scandinavian-sweet-hedgehog-illustration-kids-gender-neutral-black-white-by-littlesmilemakers\", \"scraped\": 0}, {\"id\": \"9060289\", \"slug\": \"saints-fleur-de-lis-new-orleans-saints-football-football-fabric-fleur-de-lis-fabric-black-gold-gold-f-by-charlottewinter\", \"path\": \"/en/fabric/9060289-saints-fleur-de-lis-new-orleans-saints-football-football-fabric-fleur-de-lis-fabric-black-gold-gold-f-by-charlottewinter\", \"scraped\": 0}, {\"id\": \"7236018\", \"slug\": \"australian-native-eucalyptus-leaves-edition-1-australiana-fabric-wallpaper-by-erin__kendal\", \"path\": \"/en/fabric/7236018-australian-native-eucalyptus-leaves-edition-1-australiana-fabric-wallpaper-by-erin__kendal\", \"scraped\": 0}, {\"id\": \"3584004\", \"slug\": \"mexican-sugar-skulls-small-by-lusykoror\", \"path\": \"/en/fabric/3584004-mexican-sugar-skulls-small-by-lusykoror\", \"scraped\": 0}, {\"id\": \"7463028\", \"slug\": \"seamless-watercolor-larger-leaves-pattern-1-by-daily_miracles\", \"path\": \"/en/fabric/7463028-seamless-watercolor-larger-leaves-pattern-1-by-daily_miracles\", \"scraped\": 0}, {\"id\": \"5033660\", \"slug\": \"80s-accessories-by-diannemehta\", \"path\": \"/en/fabric/5033660-80s-accessories-by-diannemehta\", \"scraped\": 0}], \"product_data\": {\"id\": null, \"slug\": null, \"path\": \"/en/shop\"}}\r\n",
      "{\"links\": [], \"product_data\": {\"id\": \"6444170\", \"slug\": \"catching-fireflies-by-thestorysmith\", \"path\": \"/en/fabric/6444170-catching-fireflies-by-thestorysmith\", \"title\": \"Catching Fireflies\", \"size\": \"Fat Quarter 21\\\" x 18\\\"\", \"price\": \"10.75\", \"priceCurrency\": \"USD\", \"priceValidUntil\": \"2030-01-01\"}}\r\n"
     ]
    }
   ],
   "source": [
    "!python -m supercharged.main spoonflower"
   ]
  },
  {
   "cell_type": "code",
   "execution_count": null,
   "metadata": {},
   "outputs": [],
   "source": []
  }
 ],
 "metadata": {
  "kernelspec": {
   "display_name": "Python 3",
   "language": "python",
   "name": "python3"
  },
  "language_info": {
   "codemirror_mode": {
    "name": "ipython",
    "version": 3
   },
   "file_extension": ".py",
   "mimetype": "text/x-python",
   "name": "python",
   "nbconvert_exporter": "python",
   "pygments_lexer": "ipython3",
   "version": "3.8.2"
  }
 },
 "nbformat": 4,
 "nbformat_minor": 4
}
